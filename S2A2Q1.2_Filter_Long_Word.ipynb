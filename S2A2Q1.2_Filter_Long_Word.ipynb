{
 "cells": [
  {
   "cell_type": "code",
   "execution_count": 7,
   "metadata": {},
   "outputs": [
    {
     "name": "stdout",
     "output_type": "stream",
     "text": [
      "['this', 'list', 'words']\n"
     ]
    }
   ],
   "source": [
    "'''\n",
    "Function filter_long_words() that takes a list of words and an integer n and returns the list\n",
    "of words that are longer than n.\n",
    "\n",
    "'''\n",
    "def filter_long_words(list,n):\n",
    "    l=[]\n",
    "    #iterate over the list\n",
    "    for item in list:\n",
    "        #compare length\n",
    "        if len(item)>n:\n",
    "            l.append(item)\n",
    "    return l\n",
    "\n",
    "input_List=['this','is','a','list','of','words']\n",
    "print(filter_long_words(input_List,3))\n"
   ]
  },
  {
   "cell_type": "code",
   "execution_count": 9,
   "metadata": {},
   "outputs": [
    {
     "name": "stdout",
     "output_type": "stream",
     "text": [
      "Initialised list_Utilities object\n",
      "New List of Words: ['This', 'beautiful']\n"
     ]
    }
   ],
   "source": [
    "class list_Utilities:\n",
    "    def __init__(self, wordlist):\n",
    "        self.wordlist = wordlist\n",
    "        print (\"Initialised list_Utilities object\")\n",
    "    def filter_long_words(self, n):\n",
    "        return list(filter(lambda x:len(x) > n, self.wordlist))\n",
    "instance = list_Utilities([\"This\",\"is\",\"a\",\"beautiful\",\"day\"])\n",
    "print (\"New List of Words: \" + str(instance.filter_long_words(3)) )"
   ]
  }
 ],
 "metadata": {
  "kernelspec": {
   "display_name": "Python 3",
   "language": "python",
   "name": "python3"
  },
  "language_info": {
   "codemirror_mode": {
    "name": "ipython",
    "version": 3
   },
   "file_extension": ".py",
   "mimetype": "text/x-python",
   "name": "python",
   "nbconvert_exporter": "python",
   "pygments_lexer": "ipython3",
   "version": "3.6.5"
  }
 },
 "nbformat": 4,
 "nbformat_minor": 2
}
