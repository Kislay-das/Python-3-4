{
 "cells": [
  {
   "cell_type": "code",
   "execution_count": 1,
   "metadata": {},
   "outputs": [
    {
     "name": "stdout",
     "output_type": "stream",
     "text": [
      "ssssss\n"
     ]
    }
   ],
   "source": [
    "def longestWord(list):\n",
    "    longest_word=list[0]\n",
    "    for i in range(0,len(list)):\n",
    "        if len(list[i])>len(longest_word):\n",
    "            longest_word= list[i]\n",
    "    return longest_word\n",
    "\n",
    "l=['avvv','aa','ssssss','ghghgh']  \n",
    "print(longestWord(l))"
   ]
  },
  {
   "cell_type": "code",
   "execution_count": 2,
   "metadata": {},
   "outputs": [
    {
     "name": "stdout",
     "output_type": "stream",
     "text": [
      "Longest word in array is: beautiful\n"
     ]
    }
   ],
   "source": [
    "from functools import reduce\n",
    "\n",
    "# Function to compare and reduce list to the result\n",
    "def longestWord(list_words):\n",
    "    return reduce( (lambda x,y:y if len(y) > len(x) else x), list_words )\n",
    "\n",
    "list_words = ['This','is','a','beautiful','day']\n",
    "print ('Longest word in array is: ' + longestWord(list_words) )"
   ]
  }
 ],
 "metadata": {
  "kernelspec": {
   "display_name": "Python 3",
   "language": "python",
   "name": "python3"
  },
  "language_info": {
   "codemirror_mode": {
    "name": "ipython",
    "version": 3
   },
   "file_extension": ".py",
   "mimetype": "text/x-python",
   "name": "python",
   "nbconvert_exporter": "python",
   "pygments_lexer": "ipython3",
   "version": "3.6.5"
  }
 },
 "nbformat": 4,
 "nbformat_minor": 2
}
