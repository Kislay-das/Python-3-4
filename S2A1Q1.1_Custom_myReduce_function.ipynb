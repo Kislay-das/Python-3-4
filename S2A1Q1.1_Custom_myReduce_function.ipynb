{
 "cells": [
  {
   "cell_type": "code",
   "execution_count": 2,
   "metadata": {},
   "outputs": [
    {
     "name": "stdout",
     "output_type": "stream",
     "text": [
      "Sum on the list [1,2,3,4,5] using custom reduce function: 15\n"
     ]
    }
   ],
   "source": [
    "'''\n",
    "Python Program to implement custom myreduce() function which works exactly like\n",
    "Python's built-in function reduce()\n",
    "'''\n",
    "# Reduce will produce a single result\n",
    "def myreduce(anyfunc, sequence):\n",
    "\n",
    " # Get first item in sequence and assign to result\n",
    "    result = sequence[0]\n",
    " # Iterate over remaining items in the sequence and apply reduction function \n",
    "    for item in sequence[1:]:\n",
    "        result = anyfunc(result, item)\n",
    "    return result\n",
    "\n",
    "# Test function to be used in myreduce function\n",
    "def sum(x,y):\n",
    "    return x + y\n",
    "\n",
    "print (\"Sum on the list [1,2,3,4,5] using custom reduce function: \"   + str(myreduce(sum, [1,2,3,4,5])) )"
   ]
  }
 ],
 "metadata": {
  "kernelspec": {
   "display_name": "Python 3",
   "language": "python",
   "name": "python3"
  },
  "language_info": {
   "codemirror_mode": {
    "name": "ipython",
    "version": 3
   },
   "file_extension": ".py",
   "mimetype": "text/x-python",
   "name": "python",
   "nbconvert_exporter": "python",
   "pygments_lexer": "ipython3",
   "version": "3.6.5"
  }
 },
 "nbformat": 4,
 "nbformat_minor": 2
}
