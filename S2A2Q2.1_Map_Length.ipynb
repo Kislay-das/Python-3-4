{
 "cells": [
  {
   "cell_type": "code",
   "execution_count": 8,
   "metadata": {},
   "outputs": [
    {
     "name": "stdout",
     "output_type": "stream",
     "text": [
      "word lengths in array: [4, 2, 1, 9, 3]\n"
     ]
    }
   ],
   "source": [
    "'''\n",
    "Python program using function concept that maps list of words into a list of integers\n",
    "representing the lengths of the corresponding words\n",
    "\n",
    "'''\n",
    "\n",
    "def wordlength(wordlist):\n",
    "    return list(map(lambda x: len(x), wordlist))\n",
    "\n",
    "wordlist = [\"This\", \"is\", \"a\", \"beautiful\", \"day\"]\n",
    "print (\"word lengths in array: \" + str(wordlength(wordlist)))   "
   ]
  }
 ],
 "metadata": {
  "kernelspec": {
   "display_name": "Python 3",
   "language": "python",
   "name": "python3"
  },
  "language_info": {
   "codemirror_mode": {
    "name": "ipython",
    "version": 3
   },
   "file_extension": ".py",
   "mimetype": "text/x-python",
   "name": "python",
   "nbconvert_exporter": "python",
   "pygments_lexer": "ipython3",
   "version": "3.6.5"
  }
 },
 "nbformat": 4,
 "nbformat_minor": 2
}
